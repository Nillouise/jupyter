{
 "cells": [
  {
   "cell_type": "code",
   "execution_count": 13,
   "metadata": {},
   "outputs": [
    {
     "ename": "ModuleNotFoundError",
     "evalue": "No module named 'aiohttp'",
     "output_type": "error",
     "traceback": [
      "\u001b[1;31m---------------------------------------------------------------------------\u001b[0m",
      "\u001b[1;31mModuleNotFoundError\u001b[0m                       Traceback (most recent call last)",
      "\u001b[1;32m<ipython-input-13-a11c8bb5e8ab>\u001b[0m in \u001b[0;36m<module>\u001b[1;34m\u001b[0m\n\u001b[0;32m      2\u001b[0m \u001b[1;31m#参考https://pawelmhm.github.io/asyncio/python/aiohttp/2016/04/22/asyncio-aiohttp.html\u001b[0m\u001b[1;33m\u001b[0m\u001b[1;33m\u001b[0m\u001b[1;33m\u001b[0m\u001b[0m\n\u001b[0;32m      3\u001b[0m \u001b[1;33m\u001b[0m\u001b[0m\n\u001b[1;32m----> 4\u001b[1;33m \u001b[1;32mimport\u001b[0m \u001b[0maiohttp\u001b[0m\u001b[1;33m\u001b[0m\u001b[1;33m\u001b[0m\u001b[0m\n\u001b[0m\u001b[0;32m      5\u001b[0m \u001b[1;32mimport\u001b[0m \u001b[0masyncio\u001b[0m\u001b[1;33m\u001b[0m\u001b[1;33m\u001b[0m\u001b[0m\n\u001b[0;32m      6\u001b[0m \u001b[1;32mimport\u001b[0m \u001b[0mnest_asyncio\u001b[0m\u001b[1;33m\u001b[0m\u001b[1;33m\u001b[0m\u001b[0m\n",
      "\u001b[1;31mModuleNotFoundError\u001b[0m: No module named 'aiohttp'"
     ]
    }
   ],
   "source": [
    "#使用python进行网站性能测试\n",
    "#参考https://pawelmhm.github.io/asyncio/python/aiohttp/2016/04/22/asyncio-aiohttp.html\n",
    "\n",
    "import aiohttp\n",
    "import asyncio\n",
    "import nest_asyncio\n",
    "import time\n",
    "import random\n",
    "import string\n",
    "from aiohttp import ClientSession\n",
    "import pandas as pd\n",
    "nest_asyncio.apply()\n",
    "\n",
    "def ranString():\n",
    "    return ''.join(random.choice(string.ascii_uppercase + string.digits) for _ in range(8))\n",
    "\n",
    "\n",
    "proxies=\"\"\n",
    "url = \"\"\n",
    "moni_time = []\n",
    "moni_status = []\n",
    "\n",
    "\n",
    "async def fetch(session, url):\n",
    "    b=time.time()\n",
    "    try:\n",
    "        async with session.get(url,proxy=proxies) as response:\n",
    "            res = await response.json()\n",
    "            moni_time.append((time.time()-b,response.status))\n",
    "    #         moni_status.append(response.status)\n",
    "            return res;\n",
    "    except :\n",
    "        moni_time.append((time.time()-b,0))\n",
    "    \n",
    "    \n",
    "async def bound_fetch(sem, url, session):\n",
    "    # Getter function with semaphore.\n",
    "    async with sem:\n",
    "        await fetch(session, url)\n",
    "\n",
    "async def run(r):\n",
    "    tasks = []\n",
    "    # create instance of Semaphore\n",
    "    sem = asyncio.Semaphore(100)\n",
    "\n",
    "    # Create client session that will ensure we dont open new connection\n",
    "    # per each request.\n",
    "    async with ClientSession() as session:\n",
    "        for i in range(r):\n",
    "            # pass Semaphore and session to every GET request\n",
    "            task = asyncio.ensure_future(bound_fetch(sem, url + ranString(), session))\n",
    "            tasks.append(task)\n",
    "\n",
    "        responses = asyncio.gather(*tasks)\n",
    "        await responses\n",
    "        \n",
    "        \n",
    "async def main():\n",
    "    async with aiohttp.ClientSession() as session:\n",
    "        html = await fetch(session, url + ranString())\n",
    "\n",
    "moni_time = []\n",
    "\n",
    "round_begin_time = time.time()\n",
    "loop = asyncio.get_event_loop()\n",
    "\n",
    "future = asyncio.ensure_future(run(10000))\n",
    "loop.run_until_complete(future)\n",
    "round_cost_time = time.time() - round_begin_time\n",
    "pd.DataFrame(moni_time).describe()"
   ]
  },
  {
   "cell_type": "code",
   "execution_count": null,
   "metadata": {},
   "outputs": [],
   "source": []
  }
 ],
 "metadata": {
  "kernelspec": {
   "display_name": "Python 3",
   "language": "python",
   "name": "python3"
  },
  "language_info": {
   "codemirror_mode": {
    "name": "ipython",
    "version": 3
   },
   "file_extension": ".py",
   "mimetype": "text/x-python",
   "name": "python",
   "nbconvert_exporter": "python",
   "pygments_lexer": "ipython3",
   "version": "3.7.6"
  }
 },
 "nbformat": 4,
 "nbformat_minor": 4
}
